{
 "cells": [
  {
   "cell_type": "markdown",
   "metadata": {},
   "source": [
    "# Importing necessary libraries"
   ]
  },
  {
   "cell_type": "code",
   "execution_count": 36,
   "metadata": {},
   "outputs": [],
   "source": [
    "import numpy as np\n",
    "import pandas as pd\n",
    "from sklearn.linear_model import LinearRegression"
   ]
  },
  {
   "cell_type": "code",
   "execution_count": 37,
   "metadata": {},
   "outputs": [],
   "source": [
    " from sklearn.model_selection import RepeatedKFold\n"
   ]
  },
  {
   "cell_type": "code",
   "execution_count": 38,
   "metadata": {},
   "outputs": [],
   "source": [
    "from sklearn.linear_model import LinearRegression\n"
   ]
  },
  {
   "cell_type": "code",
   "execution_count": 39,
   "metadata": {},
   "outputs": [],
   "source": [
    "df=pd.read_csv(\"New2010to2015.csv\")"
   ]
  },
  {
   "cell_type": "code",
   "execution_count": 40,
   "metadata": {},
   "outputs": [
    {
     "data": {
      "text/html": [
       "<div>\n",
       "<style scoped>\n",
       "    .dataframe tbody tr th:only-of-type {\n",
       "        vertical-align: middle;\n",
       "    }\n",
       "\n",
       "    .dataframe tbody tr th {\n",
       "        vertical-align: top;\n",
       "    }\n",
       "\n",
       "    .dataframe thead th {\n",
       "        text-align: right;\n",
       "    }\n",
       "</style>\n",
       "<table border=\"1\" class=\"dataframe\">\n",
       "  <thead>\n",
       "    <tr style=\"text-align: right;\">\n",
       "      <th></th>\n",
       "      <th>Time</th>\n",
       "      <th>Area ID</th>\n",
       "      <th>Victim Age</th>\n",
       "      <th>Victim Sex</th>\n",
       "      <th>Victim Descent</th>\n",
       "      <th>Premise Description</th>\n",
       "      <th>Status Code</th>\n",
       "      <th>LAT</th>\n",
       "      <th>LON</th>\n",
       "    </tr>\n",
       "  </thead>\n",
       "  <tbody>\n",
       "    <tr>\n",
       "      <td>0</td>\n",
       "      <td>2300</td>\n",
       "      <td>20</td>\n",
       "      <td>32</td>\n",
       "      <td>1</td>\n",
       "      <td>8</td>\n",
       "      <td>106</td>\n",
       "      <td>2</td>\n",
       "      <td>34.0454</td>\n",
       "      <td>-118.3157</td>\n",
       "    </tr>\n",
       "    <tr>\n",
       "      <td>1</td>\n",
       "      <td>1800</td>\n",
       "      <td>18</td>\n",
       "      <td>38</td>\n",
       "      <td>1</td>\n",
       "      <td>6</td>\n",
       "      <td>106</td>\n",
       "      <td>2</td>\n",
       "      <td>33.9572</td>\n",
       "      <td>-118.2717</td>\n",
       "    </tr>\n",
       "    <tr>\n",
       "      <td>2</td>\n",
       "      <td>2230</td>\n",
       "      <td>11</td>\n",
       "      <td>29</td>\n",
       "      <td>0</td>\n",
       "      <td>6</td>\n",
       "      <td>83</td>\n",
       "      <td>2</td>\n",
       "      <td>34.1211</td>\n",
       "      <td>-118.2048</td>\n",
       "    </tr>\n",
       "    <tr>\n",
       "      <td>3</td>\n",
       "      <td>1600</td>\n",
       "      <td>16</td>\n",
       "      <td>23</td>\n",
       "      <td>1</td>\n",
       "      <td>8</td>\n",
       "      <td>106</td>\n",
       "      <td>2</td>\n",
       "      <td>34.2410</td>\n",
       "      <td>-118.3987</td>\n",
       "    </tr>\n",
       "    <tr>\n",
       "      <td>4</td>\n",
       "      <td>1600</td>\n",
       "      <td>19</td>\n",
       "      <td>46</td>\n",
       "      <td>1</td>\n",
       "      <td>8</td>\n",
       "      <td>106</td>\n",
       "      <td>2</td>\n",
       "      <td>34.3147</td>\n",
       "      <td>-118.4589</td>\n",
       "    </tr>\n",
       "  </tbody>\n",
       "</table>\n",
       "</div>"
      ],
      "text/plain": [
       "   Time  Area ID  Victim Age  Victim Sex  Victim Descent  Premise Description  \\\n",
       "0  2300       20          32           1               8                  106   \n",
       "1  1800       18          38           1               6                  106   \n",
       "2  2230       11          29           0               6                   83   \n",
       "3  1600       16          23           1               8                  106   \n",
       "4  1600       19          46           1               8                  106   \n",
       "\n",
       "   Status Code      LAT       LON  \n",
       "0            2  34.0454 -118.3157  \n",
       "1            2  33.9572 -118.2717  \n",
       "2            2  34.1211 -118.2048  \n",
       "3            2  34.2410 -118.3987  \n",
       "4            2  34.3147 -118.4589  "
      ]
     },
     "execution_count": 40,
     "metadata": {},
     "output_type": "execute_result"
    }
   ],
   "source": [
    "df.head()"
   ]
  },
  {
   "cell_type": "code",
   "execution_count": 41,
   "metadata": {},
   "outputs": [
    {
     "data": {
      "text/plain": [
       "Index(['Time', 'Area ID', 'Victim Age', 'Victim Sex', 'Victim Descent',\n",
       "       'Premise Description', 'Status Code', 'LAT', 'LON'],\n",
       "      dtype='object')"
      ]
     },
     "execution_count": 41,
     "metadata": {},
     "output_type": "execute_result"
    }
   ],
   "source": [
    "df.columns"
   ]
  },
  {
   "cell_type": "code",
   "execution_count": 42,
   "metadata": {},
   "outputs": [],
   "source": [
    "import numpy as np # linear algebra\n",
    "import pandas as pd # data processing, CSV file I/O (e.g. pd.read_csv)\n",
    "import matplotlib.pyplot as plt\n",
    "import seaborn as sns\n",
    "\n",
    "from scipy import stats\n",
    "from scipy.stats import randint\n",
    "\n",
    "# prep\n",
    "from sklearn.model_selection import train_test_split\n",
    "from sklearn import preprocessing\n",
    "from sklearn.datasets import make_classification\n",
    "from sklearn.preprocessing import binarize, LabelEncoder, MinMaxScaler\n",
    "\n",
    "# models\n",
    "from sklearn.linear_model import LogisticRegression\n",
    "from sklearn.tree import DecisionTreeClassifier\n",
    "from sklearn.ensemble import RandomForestClassifier, ExtraTreesClassifier\n",
    "\n",
    "# Validation libraries\n",
    "from sklearn import metrics\n",
    "from sklearn.metrics import accuracy_score, mean_squared_error, precision_recall_curve\n",
    "from sklearn.model_selection import cross_val_score\n",
    "\n",
    "#Neural Network\n",
    "from sklearn.neural_network import MLPClassifier\n",
    "#from sklearn.grid_search import RandomizedSearchCV\n",
    "\n",
    "#Bagging\n",
    "from sklearn.ensemble import BaggingClassifier, AdaBoostClassifier\n",
    "from sklearn.neighbors import KNeighborsClassifier\n",
    "\n",
    "#Naive bayes\n",
    "from sklearn.naive_bayes import GaussianNB \n",
    "\n",
    "#Stacking\n",
    "from mlxtend.classifier import StackingClassifier\n",
    "\n",
    "# Input data files are available in the \"../input/\" directory.\n",
    "# For example, running this (by clicking run or pressing Shift+Enter) will list the files in the input directory"
   ]
  },
  {
   "cell_type": "code",
   "execution_count": 43,
   "metadata": {},
   "outputs": [],
   "source": [
    "X=df.drop(['LAT', 'LON'], axis=1)\n"
   ]
  },
  {
   "cell_type": "code",
   "execution_count": 44,
   "metadata": {},
   "outputs": [
    {
     "data": {
      "text/plain": [
       "Index(['Time', 'Area ID', 'Victim Age', 'Victim Sex', 'Victim Descent',\n",
       "       'Premise Description', 'Status Code', 'LAT', 'LON'],\n",
       "      dtype='object')"
      ]
     },
     "execution_count": 44,
     "metadata": {},
     "output_type": "execute_result"
    }
   ],
   "source": [
    "df.columns"
   ]
  },
  {
   "cell_type": "code",
   "execution_count": 45,
   "metadata": {},
   "outputs": [],
   "source": [
    "y=df[['LAT', 'LON']]"
   ]
  },
  {
   "cell_type": "code",
   "execution_count": null,
   "metadata": {},
   "outputs": [],
   "source": []
  },
  {
   "cell_type": "markdown",
   "metadata": {},
   "source": [
    "# Creating test and train dataset "
   ]
  },
  {
   "cell_type": "code",
   "execution_count": 46,
   "metadata": {},
   "outputs": [],
   "source": [
    "X_train, X_test, y_train, y_test = train_test_split(X, y, test_size=0.30, random_state=0)\n"
   ]
  },
  {
   "cell_type": "code",
   "execution_count": 47,
   "metadata": {},
   "outputs": [],
   "source": [
    "X_train=np.array(X_train)\n",
    "y_train=np.array(y_train)\n",
    "X_test=np.array(X_test)\n",
    "y_test=np.array(y_test)"
   ]
  },
  {
   "cell_type": "markdown",
   "metadata": {},
   "source": [
    "# Linear Regression for multi output regression"
   ]
  },
  {
   "cell_type": "code",
   "execution_count": 48,
   "metadata": {
    "scrolled": true
   },
   "outputs": [
    {
     "name": "stdout",
     "output_type": "stream",
     "text": [
      "[  34.04091963 -118.29764602]\n"
     ]
    }
   ],
   "source": [
    "# define model\n",
    "model = LinearRegression()\n",
    "# fit model\n",
    "model.fit(X_train, y_train)\n",
    "# make a prediction\n",
    "#row = [66, 130100982.0,1.0, 1.0, 171.0, 5.0, 37.0, 1.0, 7.0,175.0,64.0,4.0,2.0,47551.0]\n",
    "row=X_test\n",
    "y_pred = model.predict(row)\n",
    "# summarize prediction\n",
    "print(y_pred[0])"
   ]
  },
  {
   "cell_type": "markdown",
   "metadata": {},
   "source": [
    "# MSE and R squared "
   ]
  },
  {
   "cell_type": "code",
   "execution_count": 49,
   "metadata": {},
   "outputs": [
    {
     "name": "stdout",
     "output_type": "stream",
     "text": [
      "mse = 82.95212511842809\n",
      "r2 = 0.1043777694953858\n"
     ]
    }
   ],
   "source": [
    "from sklearn.metrics import explained_variance_score, mean_squared_error, r2_score\n",
    "mean_squared_error = mean_squared_error(y_test, y_pred)\n",
    "r_squared = r2_score(y_test, y_pred)\n",
    "#r_squared = r2_score([[1,2],[3,4],[5,6]],[[1,2],[3,4],[5,6]])\n",
    "print('mse = {}'.format(mean_squared_error))\n",
    "print('r2 = {}'.format(r_squared))"
   ]
  },
  {
   "cell_type": "code",
   "execution_count": 50,
   "metadata": {},
   "outputs": [
    {
     "data": {
      "image/png": "[encoded data removed]",
      "text/plain": [
       "<Figure size 432x288 with 1 Axes>"
      ]
     },
     "metadata": {
      "needs_background": "light"
     },
     "output_type": "display_data"
    }
   ],
   "source": [
    "plt.plot((model.predict(X_test).reshape(-1,1)).flatten(),\n",
    "            (model.predict(X_test).reshape(-1,1)).flatten(),\n",
    "            '--',color = 'red',label = 'Regression line')\n",
    "plt.scatter((model.predict(X_test).reshape(-1,1)).flatten(),\n",
    "               y_test,label = 'Values')\n",
    "\n",
    "plt.title('Regression model')\n",
    "plt.xlabel('Predicted Value')\n",
    "plt.ylabel('Actual value')\n",
    "plt.legend()\n",
    "plt.title('R2: ' + str(r2_score(y_test, y_pred)))\n",
    "\n",
    "plt.show()"
   ]
  },
  {
   "cell_type": "code",
   "execution_count": 51,
   "metadata": {},
   "outputs": [],
   "source": [
    "from sklearn.metrics import accuracy_score\n"
   ]
  },
  {
   "cell_type": "code",
   "execution_count": null,
   "metadata": {},
   "outputs": [],
   "source": [
    "\n"
   ]
  },
  {
   "cell_type": "markdown",
   "metadata": {},
   "source": [
    "#  K Nearest Neighbours for multioutput regression"
   ]
  },
  {
   "cell_type": "code",
   "execution_count": 52,
   "metadata": {},
   "outputs": [],
   "source": [
    "from sklearn.neighbors import KNeighborsRegressor"
   ]
  },
  {
   "cell_type": "code",
   "execution_count": 53,
   "metadata": {},
   "outputs": [
    {
     "name": "stdout",
     "output_type": "stream",
     "text": [
      "[  34.04936 -118.2845 ]\n"
     ]
    }
   ],
   "source": [
    "# define model\n",
    "model = KNeighborsRegressor()\n",
    "# fit model\n",
    "model.fit(X_train, y_train)\n",
    "# make a prediction\n",
    "#row = [66, 130100982.0,1.0, 1.0, 171.0, 5.0, 37.0, 1.0, 7.0,175.0,64.0,4.0,2.0,47551.0]\n",
    "row=X_test\n",
    "y_pred = model.predict(row)\n",
    "# summarize prediction\n",
    "print(y_pred[0])"
   ]
  },
  {
   "cell_type": "markdown",
   "metadata": {},
   "source": [
    "# MSE and R squared "
   ]
  },
  {
   "cell_type": "code",
   "execution_count": 54,
   "metadata": {},
   "outputs": [
    {
     "name": "stdout",
     "output_type": "stream",
     "text": [
      "mse = 94.80745923653562\n",
      "r2 = 0.07422575045345708\n"
     ]
    }
   ],
   "source": [
    "from sklearn.metrics import explained_variance_score, mean_squared_error, r2_score\n",
    "mean_squared_error = mean_squared_error(y_test, y_pred)\n",
    "r_squared = r2_score(y_test, y_pred)\n",
    "#r_squared = r2_score([[1,2],[3,4],[5,6]],[[1,2],[3,4],[5,6]])\n",
    "print('mse = {}'.format(mean_squared_error))\n",
    "print('r2 = {}'.format(r_squared))"
   ]
  },
  {
   "cell_type": "code",
   "execution_count": 55,
   "metadata": {},
   "outputs": [
    {
     "data": {
      "image/png": "[encoded data removed]",
      "text/plain": [
       "<Figure size 432x288 with 1 Axes>"
      ]
     },
     "metadata": {
      "needs_background": "light"
     },
     "output_type": "display_data"
    }
   ],
   "source": [
    "plt.plot((model.predict(X_test).reshape(-1,1)).flatten(),\n",
    "            (model.predict(X_test).reshape(-1,1)).flatten(),\n",
    "            '--',color = 'red',label = 'Regression line')\n",
    "plt.scatter((model.predict(X_test).reshape(-1,1)).flatten(),\n",
    "               y_test,label = 'Values')\n",
    "\n",
    "plt.title('Regression model')\n",
    "plt.xlabel('Predicted Value')\n",
    "plt.ylabel('Actual value')\n",
    "plt.legend()\n",
    "plt.title('R2: ' + str(r2_score(y_test, y_pred)))\n",
    "\n",
    "plt.show()"
   ]
  },
  {
   "cell_type": "markdown",
   "metadata": {},
   "source": [
    "# Decision tree for multioutput regression"
   ]
  },
  {
   "cell_type": "code",
   "execution_count": 56,
   "metadata": {},
   "outputs": [],
   "source": [
    "\n",
    "# decision tree for multioutput regression\n",
    "from sklearn.datasets import make_regression\n",
    "from sklearn.tree import DecisionTreeRegressor"
   ]
  },
  {
   "cell_type": "code",
   "execution_count": 57,
   "metadata": {},
   "outputs": [
    {
     "name": "stdout",
     "output_type": "stream",
     "text": [
      "[  34.0495 -118.2494]\n"
     ]
    }
   ],
   "source": [
    "# define model\n",
    "model = DecisionTreeRegressor()\n",
    "# fit model\n",
    "model.fit(X_train, y_train)\n",
    "# make a prediction\n",
    "#row = [66, 130100982.0,1.0, 1.0, 171.0, 5.0, 37.0, 1.0, 7.0,175.0,64.0,4.0,2.0,47551.0]\n",
    "row=X_test\n",
    "y_pred = model.predict(row)\n",
    "# summarize prediction\n",
    "print(y_pred[0])"
   ]
  },
  {
   "cell_type": "markdown",
   "metadata": {},
   "source": [
    "#  MSE and R squared "
   ]
  },
  {
   "cell_type": "code",
   "execution_count": 58,
   "metadata": {},
   "outputs": [
    {
     "name": "stdout",
     "output_type": "stream",
     "text": [
      "mse = 166.92768779495435\n",
      "r2 = -0.12145510185751318\n"
     ]
    }
   ],
   "source": [
    "from sklearn.metrics import explained_variance_score, mean_squared_error, r2_score\n",
    "mean_squared_error = mean_squared_error(y_test, y_pred)\n",
    "r_squared = r2_score(y_test, y_pred)\n",
    "#r_squared = r2_score([[1,2],[3,4],[5,6]],[[1,2],[3,4],[5,6]])\n",
    "print('mse = {}'.format(mean_squared_error))\n",
    "print('r2 = {}'.format(r_squared))"
   ]
  },
  {
   "cell_type": "code",
   "execution_count": 59,
   "metadata": {},
   "outputs": [
    {
     "data": {
      "image/png": "[encoded data removed]",
      "text/plain": [
       "<Figure size 432x288 with 1 Axes>"
      ]
     },
     "metadata": {
      "needs_background": "light"
     },
     "output_type": "display_data"
    }
   ],
   "source": [
    "plt.plot((model.predict(X_test).reshape(-1,1)).flatten(),\n",
    "            (model.predict(X_test).reshape(-1,1)).flatten(),\n",
    "            '--',color = 'red',label = 'Regression line')\n",
    "plt.scatter((model.predict(X_test).reshape(-1,1)).flatten(),\n",
    "               y_test,label = 'Values')\n",
    "\n",
    "plt.title('Regression model')\n",
    "plt.xlabel('Predicted Value')\n",
    "plt.ylabel('Actual value')\n",
    "plt.legend()\n",
    "plt.title('R2: ' + str(r2_score(y_test, y_pred)))\n",
    "\n",
    "plt.show()"
   ]
  },
  {
   "cell_type": "markdown",
   "metadata": {},
   "source": [
    "# SVM"
   ]
  },
  {
   "cell_type": "code",
   "execution_count": 60,
   "metadata": {},
   "outputs": [],
   "source": [
    "from sklearn.model_selection import RepeatedKFold, RepeatedStratifiedKFold"
   ]
  },
  {
   "cell_type": "code",
   "execution_count": 61,
   "metadata": {},
   "outputs": [],
   "source": [
    "from sklearn.svm import LinearSVR\n"
   ]
  },
  {
   "cell_type": "code",
   "execution_count": 62,
   "metadata": {},
   "outputs": [],
   "source": [
    "from sklearn.multioutput import MultiOutputRegressor\n"
   ]
  },
  {
   "cell_type": "code",
   "execution_count": 63,
   "metadata": {},
   "outputs": [],
   "source": [
    "\n",
    "# define base model\n",
    "model = LinearSVR()\n",
    "# define the direct multioutput wrapper model\n",
    "wrapper = MultiOutputRegressor(model)"
   ]
  },
  {
   "cell_type": "code",
   "execution_count": 64,
   "metadata": {},
   "outputs": [],
   "source": [
    "# example of evaluating direct multioutput regression with an SVM model\n",
    "from numpy import mean\n",
    "from numpy import std\n",
    "from numpy import absolute\n",
    "from sklearn.datasets import make_regression\n",
    "from sklearn.model_selection import cross_val_score\n",
    "from sklearn.model_selection import RepeatedKFold\n",
    "from sklearn.multioutput import MultiOutputRegressor\n",
    "from sklearn.svm import LinearSVR"
   ]
  },
  {
   "cell_type": "code",
   "execution_count": 65,
   "metadata": {},
   "outputs": [
    {
     "name": "stderr",
     "output_type": "stream",
     "text": [
      "C:\\Users\\apurv\\Anaconda3\\lib\\site-packages\\sklearn\\svm\\base.py:929: ConvergenceWarning: Liblinear failed to converge, increase the number of iterations.\n",
      "  \"the number of iterations.\", ConvergenceWarning)\n"
     ]
    },
    {
     "name": "stdout",
     "output_type": "stream",
     "text": [
      "Predicted: [  34.03557619 -119.20152951]\n"
     ]
    },
    {
     "name": "stderr",
     "output_type": "stream",
     "text": [
      "C:\\Users\\apurv\\Anaconda3\\lib\\site-packages\\sklearn\\svm\\base.py:929: ConvergenceWarning: Liblinear failed to converge, increase the number of iterations.\n",
      "  \"the number of iterations.\", ConvergenceWarning)\n"
     ]
    }
   ],
   "source": [
    "\n",
    "# define base model\n",
    "model = LinearSVR()\n",
    "# define the direct multioutput wrapper model\n",
    "wrapper = MultiOutputRegressor(model)\n",
    "# fit the model on the whole dataset\n",
    "wrapper.fit(X_train, y_train)\n",
    "# make a single prediction\n",
    "row = X_test\n",
    "y_pred = wrapper.predict(row)\n",
    "# summarize the prediction\n",
    "print('Predicted: %s' % y_pred[0])"
   ]
  },
  {
   "cell_type": "code",
   "execution_count": 66,
   "metadata": {},
   "outputs": [
    {
     "name": "stdout",
     "output_type": "stream",
     "text": [
      "mse = 84.20673328446935\n",
      "r2 = -0.003326963087095347\n"
     ]
    }
   ],
   "source": [
    "from sklearn.metrics import explained_variance_score, mean_squared_error, r2_score\n",
    "mean_squared_error = mean_squared_error(y_test, y_pred)\n",
    "r_squared = r2_score(y_test, y_pred)\n",
    "#r_squared = r2_score([[1,2],[3,4],[5,6]],[[1,2],[3,4],[5,6]])\n",
    "print('mse = {}'.format(mean_squared_error))\n",
    "print('r2 = {}'.format(r_squared))"
   ]
  },
  {
   "cell_type": "code",
   "execution_count": null,
   "metadata": {},
   "outputs": [],
   "source": []
  },
  {
   "cell_type": "markdown",
   "metadata": {},
   "source": [
    "# Chained Multioutput regression"
   ]
  },
  {
   "cell_type": "code",
   "execution_count": 68,
   "metadata": {},
   "outputs": [],
   "source": [
    "from sklearn.multioutput import RegressorChain\n"
   ]
  },
  {
   "cell_type": "code",
   "execution_count": 69,
   "metadata": {},
   "outputs": [],
   "source": [
    "\n",
    "# define base model\n",
    "model = LinearSVR()\n",
    "# define the chained multioutput wrapper model\n",
    "wrapper = RegressorChain(model, order=[0,1])"
   ]
  },
  {
   "cell_type": "code",
   "execution_count": 70,
   "metadata": {},
   "outputs": [
    {
     "name": "stderr",
     "output_type": "stream",
     "text": [
      "C:\\Users\\apurv\\Anaconda3\\lib\\site-packages\\sklearn\\svm\\base.py:929: ConvergenceWarning: Liblinear failed to converge, increase the number of iterations.\n",
      "  \"the number of iterations.\", ConvergenceWarning)\n"
     ]
    },
    {
     "name": "stdout",
     "output_type": "stream",
     "text": [
      "Predicted: [  34.04686168 -118.51672474]\n"
     ]
    },
    {
     "name": "stderr",
     "output_type": "stream",
     "text": [
      "C:\\Users\\apurv\\Anaconda3\\lib\\site-packages\\sklearn\\svm\\base.py:929: ConvergenceWarning: Liblinear failed to converge, increase the number of iterations.\n",
      "  \"the number of iterations.\", ConvergenceWarning)\n"
     ]
    }
   ],
   "source": [
    "\n",
    "# example of making a prediction with the chained multioutput regression model\n",
    "from sklearn.datasets import make_regression\n",
    "from sklearn.multioutput import RegressorChain\n",
    "from sklearn.svm import LinearSVR\n",
    "\n",
    "# define base model\n",
    "model = LinearSVR()\n",
    "# define the chained multioutput wrapper model\n",
    "wrapper = RegressorChain(model)\n",
    "# fit the model on the whole dataset\n",
    "wrapper.fit(X_train, y_train)\n",
    "# make a single prediction\n",
    "row = X_test\n",
    "y_pred = wrapper.predict(row)\n",
    "# summarize the prediction\n",
    "print('Predicted: %s' % y_pred[0])"
   ]
  },
  {
   "cell_type": "code",
   "execution_count": 71,
   "metadata": {},
   "outputs": [
    {
     "name": "stdout",
     "output_type": "stream",
     "text": [
      "mse = 83.39554921050501\n",
      "r2 = 0.06151877213566542\n"
     ]
    }
   ],
   "source": [
    "from sklearn.metrics import explained_variance_score, mean_squared_error, r2_score\n",
    "mean_squared_error = mean_squared_error(y_test, y_pred)\n",
    "r_squared = r2_score(y_test, y_pred)\n",
    "#r_squared = r2_score([[1,2],[3,4],[5,6]],[[1,2],[3,4],[5,6]])\n",
    "print('mse = {}'.format(mean_squared_error))\n",
    "print('r2 = {}'.format(r_squared))"
   ]
  },
  {
   "cell_type": "code",
   "execution_count": null,
   "metadata": {},
   "outputs": [],
   "source": []
  },
  {
   "cell_type": "code",
   "execution_count": null,
   "metadata": {},
   "outputs": [],
   "source": []
  },
  {
   "cell_type": "code",
   "execution_count": null,
   "metadata": {},
   "outputs": [],
   "source": []
  },
  {
   "cell_type": "code",
   "execution_count": null,
   "metadata": {},
   "outputs": [],
   "source": []
  }
 ],
 "metadata": {
  "kernelspec": {
   "display_name": "Python 3",
   "language": "python",
   "name": "python3"
  },
  "language_info": {
   "codemirror_mode": {
    "name": "ipython",
    "version": 3
   },
   "file_extension": ".py",
   "mimetype": "text/x-python",
   "name": "python",
   "nbconvert_exporter": "python",
   "pygments_lexer": "ipython3",
   "version": "3.7.4"
  }
 },
 "nbformat": 4,
 "nbformat_minor": 2
}
